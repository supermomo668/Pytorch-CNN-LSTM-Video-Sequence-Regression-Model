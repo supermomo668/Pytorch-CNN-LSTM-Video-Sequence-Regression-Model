{
 "cells": [
  {
   "cell_type": "code",
   "execution_count": 2,
   "id": "f7028f9b-cdcf-41f1-bc6b-5c3939e668f2",
   "metadata": {},
   "outputs": [],
   "source": [
    "import glob, os, pandas as pd, numpy as np, cv2\n",
    "from pathlib import Path\n",
    "from PIL import Image\n",
    "import matplotlib.pyplot as plt\n",
    "from sklearn.preprocessing import LabelEncoder\n",
    "#\n",
    "from torchvision import datasets, transforms, models\n",
    "import torchvision.transforms.functional as TF\n",
    "from torch.utils.data import TensorDataset, DataLoader, Dataset\n",
    "from torch import nn\n",
    "import torch\n",
    "import torch.nn.functional as F\n",
    "#\n",
    "import pytorch_lightning as pl\n",
    "import wandb\n",
    "from tqdm.auto import tqdm\n",
    "#\n",
    "from cnn_lstm_util.dataIndex import dataIndexing\n",
    "from cnn_lstm_util.preProcess import filter_to_valid_seq_dataindex, compute_im_stats, load_img_df\n",
    "from cnn_lstm_util.dataGenerator import VideoSequenceData, VideoSequenceDataModule\n",
    "from cnn_lstm_util.models import CNN_LSTM"
   ]
  },
  {
   "cell_type": "code",
   "execution_count": 3,
   "id": "e7ad838a-46de-40bd-a649-b31115bdba56",
   "metadata": {
    "tags": []
   },
   "outputs": [
    {
     "name": "stdout",
     "output_type": "stream",
     "text": [
      "{'proj_path': WindowsPath('C:/Users/Me-Biotrillion/BioTrillion Dropbox/Projects/Sandbox Employees (Internal)/Matthew Mo/video_sequence_model'), 'data_path': WindowsPath('C:/Users/Me-Biotrillion/BioTrillion Dropbox/Projects/Sandbox Employees (Internal)/Matthew Mo/video_sequence_model/data'), 'dataindex_path': WindowsPath('C:/Users/Me-Biotrillion/BioTrillion Dropbox/Projects/Sandbox Employees (Internal)/Matthew Mo/video_sequence_model/data/data_index.csv'), 'model_chkpt_path': WindowsPath('C:/Users/Me-Biotrillion/BioTrillion Dropbox/Projects/Sandbox Employees (Internal)/Matthew Mo/video_sequence_model/data/model_chkpt')}\n"
     ]
    },
    {
     "name": "stderr",
     "output_type": "stream",
     "text": [
      "Failed to detect the name of this notebook, you can set it manually with the WANDB_NOTEBOOK_NAME environment variable to enable code saving.\n",
      "\u001b[34m\u001b[1mwandb\u001b[0m: Currently logged in as: \u001b[33m3m-m\u001b[0m. Use \u001b[1m`wandb login --relogin`\u001b[0m to force relogin\n"
     ]
    },
    {
     "data": {
      "text/plain": [
       "True"
      ]
     },
     "execution_count": 3,
     "metadata": {},
     "output_type": "execute_result"
    }
   ],
   "source": [
    "%load_ext autoreload\n",
    "%autoreload 2\n",
    "#\n",
    "class PATH_args:\n",
    "    proj_path = Path('./').absolute()\n",
    "    data_path = proj_path.parent/proj_path.name/'data'\n",
    "    dataindex_path = data_path/'data_index.csv'\n",
    "    model_chkpt_path = data_path/'model_chkpt'\n",
    "\n",
    "    print({k: v for k,v in locals().items() if not k.startswith('_')}, sep='\\n')\n",
    "wandb.login()"
   ]
  },
  {
   "cell_type": "code",
   "execution_count": 4,
   "id": "847840f7-c0fb-4cea-a687-aa5ae5bfa665",
   "metadata": {
    "scrolled": true,
    "tags": []
   },
   "outputs": [],
   "source": [
    "indexer = dataIndexing()\n",
    "# indexer.main(folder=PATH_args.data_path, stratify_cols='video', \n",
    "#              data_splits={'train':0.7, 'val':0.1, 'test':0.2}, selected_folders=['initial_train'])"
   ]
  },
  {
   "cell_type": "code",
   "execution_count": 5,
   "id": "458a0c2c-e91d-4eae-8fd4-13492168493d",
   "metadata": {},
   "outputs": [
    {
     "name": "stdout",
     "output_type": "stream",
     "text": [
      "(1334, 18)\n",
      "train    933\n",
      "test     268\n",
      "val      133\n",
      "Name: set, dtype: int64\n"
     ]
    },
    {
     "data": {
      "text/html": [
       "<div>\n",
       "<style scoped>\n",
       "    .dataframe tbody tr th:only-of-type {\n",
       "        vertical-align: middle;\n",
       "    }\n",
       "\n",
       "    .dataframe tbody tr th {\n",
       "        vertical-align: top;\n",
       "    }\n",
       "\n",
       "    .dataframe thead th {\n",
       "        text-align: right;\n",
       "    }\n",
       "</style>\n",
       "<table border=\"1\" class=\"dataframe\">\n",
       "  <thead>\n",
       "    <tr style=\"text-align: right;\">\n",
       "      <th></th>\n",
       "      <th>video</th>\n",
       "      <th>frames</th>\n",
       "      <th>face_side</th>\n",
       "      <th>x_img-path</th>\n",
       "      <th>y_img-path</th>\n",
       "      <th>y_input_img-path</th>\n",
       "      <th>coord_p_true_x</th>\n",
       "      <th>coord_p_true_y</th>\n",
       "      <th>radiusX_p_true</th>\n",
       "      <th>radiusY_p_true</th>\n",
       "      <th>theta_p_true</th>\n",
       "      <th>coord_i_true_x</th>\n",
       "      <th>coord_i_true_y</th>\n",
       "      <th>radiusX_i_true</th>\n",
       "      <th>radiusY_i_true</th>\n",
       "      <th>theta_i_true</th>\n",
       "      <th>PIR</th>\n",
       "      <th>set</th>\n",
       "    </tr>\n",
       "    <tr>\n",
       "      <th>name</th>\n",
       "      <th></th>\n",
       "      <th></th>\n",
       "      <th></th>\n",
       "      <th></th>\n",
       "      <th></th>\n",
       "      <th></th>\n",
       "      <th></th>\n",
       "      <th></th>\n",
       "      <th></th>\n",
       "      <th></th>\n",
       "      <th></th>\n",
       "      <th></th>\n",
       "      <th></th>\n",
       "      <th></th>\n",
       "      <th></th>\n",
       "      <th></th>\n",
       "      <th></th>\n",
       "      <th></th>\n",
       "    </tr>\n",
       "  </thead>\n",
       "  <tbody>\n",
       "    <tr>\n",
       "      <th>2021Q3_036_left_0000.png</th>\n",
       "      <td>2021Q3_036_left</td>\n",
       "      <td>0</td>\n",
       "      <td>left</td>\n",
       "      <td>C:\\Users\\Me-Biotrillion\\BioTrillion Dropbox\\Pr...</td>\n",
       "      <td>C:\\Users\\Me-Biotrillion\\BioTrillion Dropbox\\Pr...</td>\n",
       "      <td>C:\\Users\\Me-Biotrillion\\BioTrillion Dropbox\\Pr...</td>\n",
       "      <td>112.500</td>\n",
       "      <td>66.1300</td>\n",
       "      <td>12.03</td>\n",
       "      <td>12.03</td>\n",
       "      <td>-0.1</td>\n",
       "      <td>110.42</td>\n",
       "      <td>68.39</td>\n",
       "      <td>45.28</td>\n",
       "      <td>45.28</td>\n",
       "      <td>-0.25</td>\n",
       "      <td>0.26568</td>\n",
       "      <td>test</td>\n",
       "    </tr>\n",
       "    <tr>\n",
       "      <th>2021Q3_036_left_0001.png</th>\n",
       "      <td>2021Q3_036_left</td>\n",
       "      <td>1</td>\n",
       "      <td>left</td>\n",
       "      <td>C:\\Users\\Me-Biotrillion\\BioTrillion Dropbox\\Pr...</td>\n",
       "      <td>C:\\Users\\Me-Biotrillion\\BioTrillion Dropbox\\Pr...</td>\n",
       "      <td>C:\\Users\\Me-Biotrillion\\BioTrillion Dropbox\\Pr...</td>\n",
       "      <td>112.085</td>\n",
       "      <td>65.9125</td>\n",
       "      <td>12.03</td>\n",
       "      <td>12.03</td>\n",
       "      <td>-0.1</td>\n",
       "      <td>110.15</td>\n",
       "      <td>67.95</td>\n",
       "      <td>45.28</td>\n",
       "      <td>45.28</td>\n",
       "      <td>-0.25</td>\n",
       "      <td>0.26568</td>\n",
       "      <td>val</td>\n",
       "    </tr>\n",
       "  </tbody>\n",
       "</table>\n",
       "</div>"
      ],
      "text/plain": [
       "                                    video  frames face_side  \\\n",
       "name                                                          \n",
       "2021Q3_036_left_0000.png  2021Q3_036_left       0      left   \n",
       "2021Q3_036_left_0001.png  2021Q3_036_left       1      left   \n",
       "\n",
       "                                                                 x_img-path  \\\n",
       "name                                                                          \n",
       "2021Q3_036_left_0000.png  C:\\Users\\Me-Biotrillion\\BioTrillion Dropbox\\Pr...   \n",
       "2021Q3_036_left_0001.png  C:\\Users\\Me-Biotrillion\\BioTrillion Dropbox\\Pr...   \n",
       "\n",
       "                                                                 y_img-path  \\\n",
       "name                                                                          \n",
       "2021Q3_036_left_0000.png  C:\\Users\\Me-Biotrillion\\BioTrillion Dropbox\\Pr...   \n",
       "2021Q3_036_left_0001.png  C:\\Users\\Me-Biotrillion\\BioTrillion Dropbox\\Pr...   \n",
       "\n",
       "                                                           y_input_img-path  \\\n",
       "name                                                                          \n",
       "2021Q3_036_left_0000.png  C:\\Users\\Me-Biotrillion\\BioTrillion Dropbox\\Pr...   \n",
       "2021Q3_036_left_0001.png  C:\\Users\\Me-Biotrillion\\BioTrillion Dropbox\\Pr...   \n",
       "\n",
       "                          coord_p_true_x  coord_p_true_y  radiusX_p_true  \\\n",
       "name                                                                       \n",
       "2021Q3_036_left_0000.png         112.500         66.1300           12.03   \n",
       "2021Q3_036_left_0001.png         112.085         65.9125           12.03   \n",
       "\n",
       "                          radiusY_p_true  theta_p_true  coord_i_true_x  \\\n",
       "name                                                                     \n",
       "2021Q3_036_left_0000.png           12.03          -0.1          110.42   \n",
       "2021Q3_036_left_0001.png           12.03          -0.1          110.15   \n",
       "\n",
       "                          coord_i_true_y  radiusX_i_true  radiusY_i_true  \\\n",
       "name                                                                       \n",
       "2021Q3_036_left_0000.png           68.39           45.28           45.28   \n",
       "2021Q3_036_left_0001.png           67.95           45.28           45.28   \n",
       "\n",
       "                          theta_i_true      PIR   set  \n",
       "name                                                   \n",
       "2021Q3_036_left_0000.png         -0.25  0.26568  test  \n",
       "2021Q3_036_left_0001.png         -0.25  0.26568   val  "
      ]
     },
     "execution_count": 5,
     "metadata": {},
     "output_type": "execute_result"
    }
   ],
   "source": [
    "data_index_df = pd.read_csv(PATH_args.dataindex_path, index_col='name')\n",
    "print(data_index_df.shape, data_index_df['set'].value_counts(), sep='\\n')\n",
    "data_index_df.head(2)"
   ]
  },
  {
   "cell_type": "code",
   "execution_count": 62,
   "id": "2a59f1b6-2c99-4750-a587-8e8297f3d6a8",
   "metadata": {},
   "outputs": [
    {
     "name": "stdout",
     "output_type": "stream",
     "text": [
      "load_img_df dtype: uint8\n",
      "load_img_df dtype: uint8\n",
      "221 1 3 (1, 160, 224, 3) (1, 160, 224, 1)\n"
     ]
    }
   ],
   "source": [
    "ex_im_y = load_img_df(data_index_df.iloc[0:1], im_col='y_img-path')\n",
    "ex_im_x = load_img_df(data_index_df.iloc[0:1], im_col='x_img-path')\n",
    "print(ex_im_x.max(), ex_im_x.min(), ex_im_y.max(), ex_im_x.shape, ex_im_y.shape)"
   ]
  },
  {
   "cell_type": "code",
   "execution_count": 63,
   "id": "8478c1a7-cdf1-4a8f-bedd-691533eb8a8a",
   "metadata": {},
   "outputs": [
    {
     "name": "stdout",
     "output_type": "stream",
     "text": [
      "(1174, 18)\n",
      "train    824\n",
      "test     238\n",
      "val      112\n",
      "Name: set, dtype: int64\n"
     ]
    },
    {
     "data": {
      "text/html": [
       "<div>\n",
       "<style scoped>\n",
       "    .dataframe tbody tr th:only-of-type {\n",
       "        vertical-align: middle;\n",
       "    }\n",
       "\n",
       "    .dataframe tbody tr th {\n",
       "        vertical-align: top;\n",
       "    }\n",
       "\n",
       "    .dataframe thead th {\n",
       "        text-align: right;\n",
       "    }\n",
       "</style>\n",
       "<table border=\"1\" class=\"dataframe\">\n",
       "  <thead>\n",
       "    <tr style=\"text-align: right;\">\n",
       "      <th></th>\n",
       "      <th>video</th>\n",
       "      <th>frames</th>\n",
       "      <th>face_side</th>\n",
       "      <th>x_img-path</th>\n",
       "      <th>y_img-path</th>\n",
       "      <th>y_input_img-path</th>\n",
       "      <th>coord_p_true_x</th>\n",
       "      <th>coord_p_true_y</th>\n",
       "      <th>radiusX_p_true</th>\n",
       "      <th>radiusY_p_true</th>\n",
       "      <th>theta_p_true</th>\n",
       "      <th>coord_i_true_x</th>\n",
       "      <th>coord_i_true_y</th>\n",
       "      <th>radiusX_i_true</th>\n",
       "      <th>radiusY_i_true</th>\n",
       "      <th>theta_i_true</th>\n",
       "      <th>PIR</th>\n",
       "      <th>set</th>\n",
       "    </tr>\n",
       "    <tr>\n",
       "      <th>name</th>\n",
       "      <th></th>\n",
       "      <th></th>\n",
       "      <th></th>\n",
       "      <th></th>\n",
       "      <th></th>\n",
       "      <th></th>\n",
       "      <th></th>\n",
       "      <th></th>\n",
       "      <th></th>\n",
       "      <th></th>\n",
       "      <th></th>\n",
       "      <th></th>\n",
       "      <th></th>\n",
       "      <th></th>\n",
       "      <th></th>\n",
       "      <th></th>\n",
       "      <th></th>\n",
       "      <th></th>\n",
       "    </tr>\n",
       "  </thead>\n",
       "  <tbody>\n",
       "    <tr>\n",
       "      <th>2021Q3_036_left_0000.png</th>\n",
       "      <td>2021Q3_036_left</td>\n",
       "      <td>0</td>\n",
       "      <td>left</td>\n",
       "      <td>C:\\Users\\Me-Biotrillion\\BioTrillion Dropbox\\Pr...</td>\n",
       "      <td>C:\\Users\\Me-Biotrillion\\BioTrillion Dropbox\\Pr...</td>\n",
       "      <td>C:\\Users\\Me-Biotrillion\\BioTrillion Dropbox\\Pr...</td>\n",
       "      <td>112.500</td>\n",
       "      <td>66.1300</td>\n",
       "      <td>12.03</td>\n",
       "      <td>12.03</td>\n",
       "      <td>-0.1</td>\n",
       "      <td>110.42</td>\n",
       "      <td>68.39</td>\n",
       "      <td>45.28</td>\n",
       "      <td>45.28</td>\n",
       "      <td>-0.25</td>\n",
       "      <td>0.26568</td>\n",
       "      <td>test</td>\n",
       "    </tr>\n",
       "    <tr>\n",
       "      <th>2021Q3_036_left_0001.png</th>\n",
       "      <td>2021Q3_036_left</td>\n",
       "      <td>1</td>\n",
       "      <td>left</td>\n",
       "      <td>C:\\Users\\Me-Biotrillion\\BioTrillion Dropbox\\Pr...</td>\n",
       "      <td>C:\\Users\\Me-Biotrillion\\BioTrillion Dropbox\\Pr...</td>\n",
       "      <td>C:\\Users\\Me-Biotrillion\\BioTrillion Dropbox\\Pr...</td>\n",
       "      <td>112.085</td>\n",
       "      <td>65.9125</td>\n",
       "      <td>12.03</td>\n",
       "      <td>12.03</td>\n",
       "      <td>-0.1</td>\n",
       "      <td>110.15</td>\n",
       "      <td>67.95</td>\n",
       "      <td>45.28</td>\n",
       "      <td>45.28</td>\n",
       "      <td>-0.25</td>\n",
       "      <td>0.26568</td>\n",
       "      <td>val</td>\n",
       "    </tr>\n",
       "  </tbody>\n",
       "</table>\n",
       "</div>"
      ],
      "text/plain": [
       "                                    video  frames face_side  \\\n",
       "name                                                          \n",
       "2021Q3_036_left_0000.png  2021Q3_036_left       0      left   \n",
       "2021Q3_036_left_0001.png  2021Q3_036_left       1      left   \n",
       "\n",
       "                                                                 x_img-path  \\\n",
       "name                                                                          \n",
       "2021Q3_036_left_0000.png  C:\\Users\\Me-Biotrillion\\BioTrillion Dropbox\\Pr...   \n",
       "2021Q3_036_left_0001.png  C:\\Users\\Me-Biotrillion\\BioTrillion Dropbox\\Pr...   \n",
       "\n",
       "                                                                 y_img-path  \\\n",
       "name                                                                          \n",
       "2021Q3_036_left_0000.png  C:\\Users\\Me-Biotrillion\\BioTrillion Dropbox\\Pr...   \n",
       "2021Q3_036_left_0001.png  C:\\Users\\Me-Biotrillion\\BioTrillion Dropbox\\Pr...   \n",
       "\n",
       "                                                           y_input_img-path  \\\n",
       "name                                                                          \n",
       "2021Q3_036_left_0000.png  C:\\Users\\Me-Biotrillion\\BioTrillion Dropbox\\Pr...   \n",
       "2021Q3_036_left_0001.png  C:\\Users\\Me-Biotrillion\\BioTrillion Dropbox\\Pr...   \n",
       "\n",
       "                          coord_p_true_x  coord_p_true_y  radiusX_p_true  \\\n",
       "name                                                                       \n",
       "2021Q3_036_left_0000.png         112.500         66.1300           12.03   \n",
       "2021Q3_036_left_0001.png         112.085         65.9125           12.03   \n",
       "\n",
       "                          radiusY_p_true  theta_p_true  coord_i_true_x  \\\n",
       "name                                                                     \n",
       "2021Q3_036_left_0000.png           12.03          -0.1          110.42   \n",
       "2021Q3_036_left_0001.png           12.03          -0.1          110.15   \n",
       "\n",
       "                          coord_i_true_y  radiusX_i_true  radiusY_i_true  \\\n",
       "name                                                                       \n",
       "2021Q3_036_left_0000.png           68.39           45.28           45.28   \n",
       "2021Q3_036_left_0001.png           67.95           45.28           45.28   \n",
       "\n",
       "                          theta_i_true      PIR   set  \n",
       "name                                                   \n",
       "2021Q3_036_left_0000.png         -0.25  0.26568  test  \n",
       "2021Q3_036_left_0001.png         -0.25  0.26568   val  "
      ]
     },
     "execution_count": 63,
     "metadata": {},
     "output_type": "execute_result"
    }
   ],
   "source": [
    "seq_dataindex_df = filter_to_valid_seq_dataindex(data_index_df, vid_col='video', seq_len=40)\n",
    "print(seq_dataindex_df.shape, seq_dataindex_df['set'].value_counts(), sep='\\n')\n",
    "seq_dataindex_df.head(2)"
   ]
  },
  {
   "cell_type": "markdown",
   "id": "1839790d-ad89-4380-abcb-ea9743f973b8",
   "metadata": {},
   "source": [
    "### Dataset & Loader"
   ]
  },
  {
   "cell_type": "code",
   "execution_count": 7,
   "id": "474e9bdc-4420-42f3-8986-d190508bed53",
   "metadata": {},
   "outputs": [],
   "source": [
    "class TASK_args:\n",
    "    mode = 'SEG-REG'\n",
    "    seed = 101\n",
    "    \n",
    "class DATA_args:\n",
    "    mode = TASK_args.mode\n",
    "    y_reg_cols = [\n",
    "        'coord_p_true_x', 'coord_p_true_y',\n",
    "        'radiusX_p_true', 'radiusY_p_true',\n",
    "        'coord_i_true_x', 'coord_i_true_y',\n",
    "        'radiusX_i_true', 'radiusY_i_true']\n",
    "    sequence_settings={\n",
    "        'sequence_length':41, 'mode': 'middle','sequence_gap': 40, 'frames_gap':0\n",
    "    }\n",
    "    transform_settings = {\n",
    "        'augment': True,\n",
    "        'target_resize': None,\n",
    "        'pad_resize': (224,224),\n",
    "        'normalize': True,\n",
    "        #'recompute_normalization': False\n",
    "    }\n",
    "    batch_size = 8\n",
    "    \n",
    "if TASK_args.seed: torch.manual_seed(TASK_args.seed)"
   ]
  },
  {
   "cell_type": "code",
   "execution_count": 36,
   "id": "0574893f-f44e-4c3b-b51e-e8fd4f408680",
   "metadata": {
    "scrolled": true,
    "tags": []
   },
   "outputs": [
    {
     "name": "stdout",
     "output_type": "stream",
     "text": [
      "find dataset\n",
      "dataindex shape: (1334, 18), legal dataindex shape:(1174, 18)\n",
      "Number of additional augmentation targets:40\n",
      "Mode:SEG-REG. Number of image classes: 4\n",
      "find dataloader\n"
     ]
    }
   ],
   "source": [
    "# Check dataloader\n",
    "print(f'find dataset')\n",
    "sclera_video_dataset = VideoSequenceData(\n",
    "    dataindex_df=data_index_df, seq_start_idx=seq_dataindex_df.index, **DATA_args.__dict__, \n",
    "    debug=True\n",
    ")\n",
    "print(f'find dataloader')\n",
    "loader = DataLoader(\n",
    "    sclera_video_dataset,\n",
    "    batch_size=DATA_args.batch_size,\n",
    "    #num_workers=1, (will crash Window systems)\n",
    "    shuffle=True,\n",
    ")"
   ]
  },
  {
   "cell_type": "code",
   "execution_count": 37,
   "id": "33a684d7-3330-4811-b49c-b5fdd13f8fa8",
   "metadata": {
    "scrolled": true,
    "tags": []
   },
   "outputs": [
    {
     "name": "stdout",
     "output_type": "stream",
     "text": [
      "(41, 160, 224, 3) uint8 255 24\n",
      "y_mask shape: (160, 224)\n",
      "Augmented shapes:((41, 3, 224, 224), (4, 224, 224))\n",
      "Post-aug stat: (-1.7030811, 2.6399999), (0, 1)\n",
      "(41, 160, 224, 3) uint8 255 0\n",
      "y_mask shape: (160, 224)\n",
      "Augmented shapes:((41, 3, 224, 224), (4, 224, 224))\n",
      "Post-aug stat: (-2.117904, 2.64), (0, 1)\n",
      "(41, 160, 224, 3) uint8 255 23\n",
      "y_mask shape: (160, 224)\n",
      "Augmented shapes:((41, 3, 224, 224), (4, 224, 224))\n",
      "Post-aug stat: (-1.7197534, 2.64), (0, 1)\n",
      "(41, 160, 224, 3) uint8 255 25\n",
      "y_mask shape: (160, 224)\n",
      "Augmented shapes:((41, 3, 224, 224), (4, 224, 224))\n",
      "Post-aug stat: (-1.5699118, 2.6225708), (0, 1)\n",
      "(41, 160, 224, 3) uint8 255 0\n",
      "y_mask shape: (160, 224)\n",
      "Augmented shapes:((41, 3, 224, 224), (4, 224, 224))\n",
      "Post-aug stat: (-2.117904, 2.6399999), (0, 1)\n",
      "(41, 160, 224, 3) uint8 255 0\n",
      "y_mask shape: (160, 224)\n",
      "Augmented shapes:((41, 3, 224, 224), (4, 224, 224))\n",
      "Post-aug stat: (-2.1179042, 2.64), (0, 1)\n",
      "(41, 160, 224, 3) uint8 255 28\n",
      "y_mask shape: (160, 224)\n",
      "Augmented shapes:((41, 3, 224, 224), (4, 224, 224))\n",
      "Post-aug stat: (-2.0665298, 2.6399999), (0, 1)\n",
      "(41, 160, 224, 3) uint8 255 23\n",
      "y_mask shape: (160, 224)\n",
      "Augmented shapes:((41, 3, 224, 224), (4, 224, 224))\n",
      "Post-aug stat: (-1.8610326, 2.6399999), (0, 1)\n",
      "0 torch.Size([8, 41, 3, 224, 224]) torch.Size([8, 4, 224, 224])\n",
      "stat: (tensor(-2.1179), tensor(2.6400)),           (tensor(0, dtype=torch.uint8), tensor(1, dtype=torch.uint8))\n"
     ]
    }
   ],
   "source": [
    "# if __name__ == '__main__':\n",
    "for i_batch, sample_batched in enumerate(loader):\n",
    "    print(i_batch, sample_batched['image'].shape, sample_batched['mask'].shape)\n",
    "    print(f\"stat: {sample_batched['image'].min(), sample_batched['image'].max()}, \\\n",
    "          {sample_batched['mask'].min(), sample_batched['mask'].max()}\")\n",
    "    break"
   ]
  },
  {
   "cell_type": "code",
   "execution_count": 10,
   "id": "a5b30e53-d106-4f9b-b5e2-bcf615ce7bb9",
   "metadata": {},
   "outputs": [
    {
     "name": "stdout",
     "output_type": "stream",
     "text": [
      "Visualizations:\n"
     ]
    },
    {
     "data": {
      "image/png": "[encoded data removed]",
      "text/plain": [
       "<Figure size 432x288 with 81 Axes>"
      ]
     },
     "metadata": {
      "needs_background": "light"
     },
     "output_type": "display_data"
    }
   ],
   "source": [
    "# observe 4th batch and stop.\n",
    "print(\"Visualizations:\")\n",
    "if i_batch == 0:\n",
    "    multi=5\n",
    "    n_max = min(DATA_args.sequence_settings.get('sequence_length')*multi, 80)\n",
    "    grid_n = int(np.ceil(np.sqrt(n_max)))\n",
    "    fig, ax = plt.subplots(grid_n, grid_n); ax = ax.ravel()\n",
    "    for n in range(0, n_max, multi):\n",
    "        ax[n].axis('off'); ax[n].set_title(f'{n//multi+1}')\n",
    "        im = sample_batched['image'][0][n//5].numpy()  # img\n",
    "        #ax[n].imshow(np.moveaxis(im, 0, -1).astype('float'))\n",
    "        # mask\n",
    "        for ii in range(sample_batched['mask'][0].shape[0]):\n",
    "            ax[n+1+ii].axis('off')\n",
    "            ax[n+1+ii].imshow(sample_batched['mask'][0][ii].numpy()==1)"
   ]
  },
  {
   "cell_type": "markdown",
   "id": "41d9c5c1-e3cb-4845-8c83-84b1c632250b",
   "metadata": {
    "tags": []
   },
   "source": [
    "## Model"
   ]
  },
  {
   "cell_type": "code",
   "execution_count": 8,
   "id": "184b91dc-4ed2-4914-82e9-ac0e46aacc4e",
   "metadata": {},
   "outputs": [],
   "source": [
    "from cnn_lstm_util.models import CNN_LSTM, CNN, CNN_head_custom\n",
    "from cnn_lstm_util.metrics import METRICS, CALLBACKS\n",
    "#from torchsummary import summary\n",
    "from torchinfo import summary"
   ]
  },
  {
   "cell_type": "code",
   "execution_count": 9,
   "id": "905aba83-0754-488a-bf3c-99d1158785c7",
   "metadata": {},
   "outputs": [
    {
     "data": {
      "text/html": [
       "Tracking run with wandb version 0.13.1"
      ],
      "text/plain": [
       "<IPython.core.display.HTML object>"
      ]
     },
     "metadata": {},
     "output_type": "display_data"
    },
    {
     "data": {
      "text/html": [
       "Run data is saved locally in <code>C:\\Users\\Me-Biotrillion\\BioTrillion Dropbox\\Projects\\Sandbox Employees (Internal)\\Matthew Mo\\video_sequence_model\\wandb\\run-20220816_175218-wzzplo80</code>"
      ],
      "text/plain": [
       "<IPython.core.display.HTML object>"
      ]
     },
     "metadata": {},
     "output_type": "display_data"
    },
    {
     "data": {
      "text/html": [
       "Syncing run <strong><a href=\"https://wandb.ai/3m-m/biotrillion/runs/wzzplo80\" target=\"_blank\">clean-disco-5</a></strong> to <a href=\"https://wandb.ai/3m-m/biotrillion\" target=\"_blank\">Weights & Biases</a> (<a href=\"https://wandb.me/run\" target=\"_blank\">docs</a>)<br/>"
      ],
      "text/plain": [
       "<IPython.core.display.HTML object>"
      ]
     },
     "metadata": {},
     "output_type": "display_data"
    }
   ],
   "source": [
    "class MODEL_args:\n",
    "    input_shape=(3,)+DATA_args.transform_settings.get('pad_resize')\n",
    "    lstm_settings = {\n",
    "        'input_size':960, \n",
    "        'hidden_size':64, \n",
    "        'num_layers':1\n",
    "    }\n",
    "    n_seg_class = 3\n",
    "    n_reg_var = len(DATA_args.y_reg_cols)\n",
    "    metrics = ['Jaccard']\n",
    "    mode = TASK_args.mode\n",
    "\n",
    "class TRAIN_args:\n",
    "    accelerator='cpu'\n",
    "    devices = 1\n",
    "    max_epochs = 3\n",
    "    callbacks = CALLBACKS(model_chkpt_dir=PATH_args.model_chkpt_path\n",
    "        ).select_callbacks(['Model Checkpoint','EarlyStopping','GradientAccumulationScheduler'])\n",
    "    logger = pl.loggers.WandbLogger(project='biotrillion',  entity=\"3m-m\", job_type='train')"
   ]
  },
  {
   "cell_type": "code",
   "execution_count": 56,
   "id": "a347b166-77bc-4d04-8101-a39a7f18595a",
   "metadata": {
    "scrolled": true,
    "tags": []
   },
   "outputs": [
    {
     "name": "stderr",
     "output_type": "stream",
     "text": [
      "GPU available: True, used: False\n",
      "TPU available: False, using: 0 TPU cores\n",
      "IPU available: False, using: 0 IPUs\n",
      "HPU available: False, using: 0 HPUs\n"
     ]
    },
    {
     "name": "stdout",
     "output_type": "stream",
     "text": [
      "CNN head output size:960\n",
      "Sequence settings:{'sequence_length': 41, 'mode': 'middle', 'sequence_gap': 40, 'frames_gap': 0}\n",
      "Arguments to be passed to dataloader: dict_keys(['mode', 'sequence_settings', 'x_img_col', 'y_img_col', 'y_reg_cols', 'transform_settings', 'debug', 'kwargs'])\n",
      "Dataset subsets:['test', 'val', 'train', 'predict']\n",
      "Mode:SEG-REG. Number of image classes: 4\n",
      "Mode:SEG-REG. Number of image classes: 4\n",
      "Mode:SEG-REG. Number of image classes: 4\n",
      "Mode:SEG-REG. Number of image classes: 4\n"
     ]
    }
   ],
   "source": [
    "# DEFAULT (ie: no accumulated grads)\n",
    "\n",
    "model = CNN_LSTM(cnn_head_model=CNN_head_custom('mobilenetv3'), **MODEL_args.__dict__)\n",
    "datamodule = VideoSequenceDataModule(PATH_args.dataindex_path, seq_dataindex_df=seq_dataindex_df, \n",
    "                                     **DATA_args.__dict__)\n",
    "datamodule.setup()\n",
    "\n",
    "trainer = pl.Trainer(**{k:v for k,v in TRAIN_args.__dict__.items() if not k.startswith('_')})\n",
    "summary(model.cnn.to('cuda'), (1,3, 224, 224))\n",
    "summary(model.to('cpu'),  input_size=(1, 16, 3, 224, 224))"
   ]
  },
  {
   "cell_type": "code",
   "execution_count": null,
   "id": "0e5f74a7-6ae4-4269-9816-f6e9f2bd8277",
   "metadata": {
    "scrolled": true,
    "tags": []
   },
   "outputs": [
    {
     "name": "stderr",
     "output_type": "stream",
     "text": [
      "C:\\ProgramData\\Anaconda\\Anaconda3\\envs\\ptml\\lib\\site-packages\\pytorch_lightning\\trainer\\configuration_validator.py:131: UserWarning: You passed in a `val_dataloader` but have no `validation_step`. Skipping val loop.\n",
      "  rank_zero_warn(\"You passed in a `val_dataloader` but have no `validation_step`. Skipping val loop.\")\n",
      "\n",
      "  | Name    | Type            | Params\n",
      "--------------------------------------------\n",
      "0 | cnn     | CNN_head_custom | 3.0 M \n",
      "1 | rnn     | LSTM            | 98.8 K\n",
      "2 | lin_out | Linear          | 520   \n",
      "--------------------------------------------\n",
      "3.1 M     Trainable params\n",
      "0         Non-trainable params\n",
      "3.1 M     Total params\n",
      "12.285    Total estimated model params size (MB)\n"
     ]
    },
    {
     "name": "stdout",
     "output_type": "stream",
     "text": [
      "Dataset subsets:['test', 'val', 'train', 'predict']\n",
      "Dataset subsets:['test', 'val', 'train', 'predict']\n"
     ]
    },
    {
     "name": "stderr",
     "output_type": "stream",
     "text": [
      "C:\\ProgramData\\Anaconda\\Anaconda3\\envs\\ptml\\lib\\site-packages\\pytorch_lightning\\trainer\\connectors\\data_connector.py:240: PossibleUserWarning: The dataloader, train_dataloader, does not have many workers which may be a bottleneck. Consider increasing the value of the `num_workers` argument` (try 8 which is the number of cpus on this machine) in the `DataLoader` init to improve performance.\n",
      "  rank_zero_warn(\n",
      "C:\\ProgramData\\Anaconda\\Anaconda3\\envs\\ptml\\lib\\site-packages\\pytorch_lightning\\trainer\\trainer.py:1933: PossibleUserWarning: The number of training batches (3) is smaller than the logging interval Trainer(log_every_n_steps=50). Set a lower value for log_every_n_steps if you want to see logs for the training epoch.\n",
      "  rank_zero_warn(\n"
     ]
    },
    {
     "data": {
      "application/vnd.jupyter.widget-view+json": {
       "model_id": "e5c05680973a45e999efb34f3d1545b1",
       "version_major": 2,
       "version_minor": 0
      },
      "text/plain": [
       "Training: 0it [00:00, ?it/s]"
      ]
     },
     "metadata": {},
     "output_type": "display_data"
    }
   ],
   "source": [
    "trainer.fit(model, datamodule)"
   ]
  },
  {
   "cell_type": "code",
   "execution_count": null,
   "id": "80d08d63-37e7-437a-8f37-0c31834fad78",
   "metadata": {},
   "outputs": [],
   "source": []
  }
 ],
 "metadata": {
  "kernelspec": {
   "display_name": "Python [conda env:ptml]",
   "language": "python",
   "name": "conda-env-ptml-py"
  },
  "language_info": {
   "codemirror_mode": {
    "name": "ipython",
    "version": 3
   },
   "file_extension": ".py",
   "mimetype": "text/x-python",
   "name": "python",
   "nbconvert_exporter": "python",
   "pygments_lexer": "ipython3",
   "version": "3.8.12"
  }
 },
 "nbformat": 4,
 "nbformat_minor": 5
}
